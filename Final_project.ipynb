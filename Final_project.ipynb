{
 "cells": [
  {
   "cell_type": "markdown",
   "metadata": {},
   "source": [
    "## Подход 1: градиентный бустинг \"в лоб\""
   ]
  },
  {
   "cell_type": "code",
   "execution_count": 1,
   "metadata": {
    "scrolled": true
   },
   "outputs": [
    {
     "name": "stdout",
     "output_type": "stream",
     "text": [
      "features ['start_time', 'lobby_type', 'r1_hero', 'r1_level', 'r1_xp', 'r1_gold', 'r1_lh', 'r1_kills', 'r1_deaths', 'r1_items', 'r2_hero', 'r2_level', 'r2_xp', 'r2_gold', 'r2_lh', 'r2_kills', 'r2_deaths', 'r2_items', 'r3_hero', 'r3_level', 'r3_xp', 'r3_gold', 'r3_lh', 'r3_kills', 'r3_deaths', 'r3_items', 'r4_hero', 'r4_level', 'r4_xp', 'r4_gold', 'r4_lh', 'r4_kills', 'r4_deaths', 'r4_items', 'r5_hero', 'r5_level', 'r5_xp', 'r5_gold', 'r5_lh', 'r5_kills', 'r5_deaths', 'r5_items', 'd1_hero', 'd1_level', 'd1_xp', 'd1_gold', 'd1_lh', 'd1_kills', 'd1_deaths', 'd1_items', 'd2_hero', 'd2_level', 'd2_xp', 'd2_gold', 'd2_lh', 'd2_kills', 'd2_deaths', 'd2_items', 'd3_hero', 'd3_level', 'd3_xp', 'd3_gold', 'd3_lh', 'd3_kills', 'd3_deaths', 'd3_items', 'd4_hero', 'd4_level', 'd4_xp', 'd4_gold', 'd4_lh', 'd4_kills', 'd4_deaths', 'd4_items', 'd5_hero', 'd5_level', 'd5_xp', 'd5_gold', 'd5_lh', 'd5_kills', 'd5_deaths', 'd5_items', 'first_blood_time', 'first_blood_team', 'first_blood_player1', 'first_blood_player2', 'radiant_bottle_time', 'radiant_courier_time', 'radiant_flying_courier_time', 'radiant_tpscroll_count', 'radiant_boots_count', 'radiant_ward_observer_count', 'radiant_ward_sentry_count', 'radiant_first_ward_time', 'dire_bottle_time', 'dire_courier_time', 'dire_flying_courier_time', 'dire_tpscroll_count', 'dire_boots_count', 'dire_ward_observer_count', 'dire_ward_sentry_count', 'dire_first_ward_time', 'duration', 'radiant_win', 'tower_status_radiant', 'tower_status_dire', 'barracks_status_radiant', 'barracks_status_dire'] \n",
      "\n",
      "features_test ['start_time', 'lobby_type', 'r1_hero', 'r1_level', 'r1_xp', 'r1_gold', 'r1_lh', 'r1_kills', 'r1_deaths', 'r1_items', 'r2_hero', 'r2_level', 'r2_xp', 'r2_gold', 'r2_lh', 'r2_kills', 'r2_deaths', 'r2_items', 'r3_hero', 'r3_level', 'r3_xp', 'r3_gold', 'r3_lh', 'r3_kills', 'r3_deaths', 'r3_items', 'r4_hero', 'r4_level', 'r4_xp', 'r4_gold', 'r4_lh', 'r4_kills', 'r4_deaths', 'r4_items', 'r5_hero', 'r5_level', 'r5_xp', 'r5_gold', 'r5_lh', 'r5_kills', 'r5_deaths', 'r5_items', 'd1_hero', 'd1_level', 'd1_xp', 'd1_gold', 'd1_lh', 'd1_kills', 'd1_deaths', 'd1_items', 'd2_hero', 'd2_level', 'd2_xp', 'd2_gold', 'd2_lh', 'd2_kills', 'd2_deaths', 'd2_items', 'd3_hero', 'd3_level', 'd3_xp', 'd3_gold', 'd3_lh', 'd3_kills', 'd3_deaths', 'd3_items', 'd4_hero', 'd4_level', 'd4_xp', 'd4_gold', 'd4_lh', 'd4_kills', 'd4_deaths', 'd4_items', 'd5_hero', 'd5_level', 'd5_xp', 'd5_gold', 'd5_lh', 'd5_kills', 'd5_deaths', 'd5_items', 'first_blood_time', 'first_blood_team', 'first_blood_player1', 'first_blood_player2', 'radiant_bottle_time', 'radiant_courier_time', 'radiant_flying_courier_time', 'radiant_tpscroll_count', 'radiant_boots_count', 'radiant_ward_observer_count', 'radiant_ward_sentry_count', 'radiant_first_ward_time', 'dire_bottle_time', 'dire_courier_time', 'dire_flying_courier_time', 'dire_tpscroll_count', 'dire_boots_count', 'dire_ward_observer_count', 'dire_ward_sentry_count', 'dire_first_ward_time']\n"
     ]
    },
    {
     "data": {
      "text/html": [
       "<div>\n",
       "<style scoped>\n",
       "    .dataframe tbody tr th:only-of-type {\n",
       "        vertical-align: middle;\n",
       "    }\n",
       "\n",
       "    .dataframe tbody tr th {\n",
       "        vertical-align: top;\n",
       "    }\n",
       "\n",
       "    .dataframe thead th {\n",
       "        text-align: right;\n",
       "    }\n",
       "</style>\n",
       "<table border=\"1\" class=\"dataframe\">\n",
       "  <thead>\n",
       "    <tr style=\"text-align: right;\">\n",
       "      <th></th>\n",
       "      <th>start_time</th>\n",
       "      <th>lobby_type</th>\n",
       "      <th>r1_hero</th>\n",
       "      <th>r1_level</th>\n",
       "      <th>r1_xp</th>\n",
       "      <th>r1_gold</th>\n",
       "      <th>r1_lh</th>\n",
       "      <th>r1_kills</th>\n",
       "      <th>r1_deaths</th>\n",
       "      <th>r1_items</th>\n",
       "      <th>...</th>\n",
       "      <th>dire_boots_count</th>\n",
       "      <th>dire_ward_observer_count</th>\n",
       "      <th>dire_ward_sentry_count</th>\n",
       "      <th>dire_first_ward_time</th>\n",
       "      <th>duration</th>\n",
       "      <th>radiant_win</th>\n",
       "      <th>tower_status_radiant</th>\n",
       "      <th>tower_status_dire</th>\n",
       "      <th>barracks_status_radiant</th>\n",
       "      <th>barracks_status_dire</th>\n",
       "    </tr>\n",
       "  </thead>\n",
       "  <tbody>\n",
       "    <tr>\n",
       "      <th>count</th>\n",
       "      <td>9.723000e+04</td>\n",
       "      <td>97230.000000</td>\n",
       "      <td>97230.000000</td>\n",
       "      <td>97230.000000</td>\n",
       "      <td>97230.000000</td>\n",
       "      <td>97230.000000</td>\n",
       "      <td>97230.000000</td>\n",
       "      <td>97230.000000</td>\n",
       "      <td>97230.000000</td>\n",
       "      <td>97230.000000</td>\n",
       "      <td>...</td>\n",
       "      <td>97230.000000</td>\n",
       "      <td>97230.000000</td>\n",
       "      <td>97230.000000</td>\n",
       "      <td>95404.000000</td>\n",
       "      <td>97230.000000</td>\n",
       "      <td>97230.000000</td>\n",
       "      <td>97230.000000</td>\n",
       "      <td>97230.000000</td>\n",
       "      <td>97230.000000</td>\n",
       "      <td>97230.000000</td>\n",
       "    </tr>\n",
       "    <tr>\n",
       "      <th>mean</th>\n",
       "      <td>1.444232e+09</td>\n",
       "      <td>2.630999</td>\n",
       "      <td>51.517104</td>\n",
       "      <td>3.442672</td>\n",
       "      <td>1233.405801</td>\n",
       "      <td>1147.899702</td>\n",
       "      <td>11.231996</td>\n",
       "      <td>0.357009</td>\n",
       "      <td>0.362285</td>\n",
       "      <td>8.271315</td>\n",
       "      <td>...</td>\n",
       "      <td>3.349553</td>\n",
       "      <td>2.448339</td>\n",
       "      <td>0.689119</td>\n",
       "      <td>-6.901922</td>\n",
       "      <td>2332.247886</td>\n",
       "      <td>0.518503</td>\n",
       "      <td>1309.227790</td>\n",
       "      <td>1286.310820</td>\n",
       "      <td>40.599095</td>\n",
       "      <td>41.337036</td>\n",
       "    </tr>\n",
       "    <tr>\n",
       "      <th>std</th>\n",
       "      <td>5.515393e+06</td>\n",
       "      <td>2.835761</td>\n",
       "      <td>32.564211</td>\n",
       "      <td>1.111741</td>\n",
       "      <td>566.588895</td>\n",
       "      <td>464.111662</td>\n",
       "      <td>9.041620</td>\n",
       "      <td>0.663889</td>\n",
       "      <td>0.626704</td>\n",
       "      <td>2.497575</td>\n",
       "      <td>...</td>\n",
       "      <td>1.155609</td>\n",
       "      <td>0.813459</td>\n",
       "      <td>0.710122</td>\n",
       "      <td>40.701397</td>\n",
       "      <td>715.806850</td>\n",
       "      <td>0.499660</td>\n",
       "      <td>853.921365</td>\n",
       "      <td>851.009148</td>\n",
       "      <td>27.871645</td>\n",
       "      <td>27.064873</td>\n",
       "    </tr>\n",
       "    <tr>\n",
       "      <th>min</th>\n",
       "      <td>1.430199e+09</td>\n",
       "      <td>0.000000</td>\n",
       "      <td>1.000000</td>\n",
       "      <td>0.000000</td>\n",
       "      <td>0.000000</td>\n",
       "      <td>0.000000</td>\n",
       "      <td>0.000000</td>\n",
       "      <td>0.000000</td>\n",
       "      <td>0.000000</td>\n",
       "      <td>0.000000</td>\n",
       "      <td>...</td>\n",
       "      <td>0.000000</td>\n",
       "      <td>0.000000</td>\n",
       "      <td>0.000000</td>\n",
       "      <td>-84.000000</td>\n",
       "      <td>900.000000</td>\n",
       "      <td>0.000000</td>\n",
       "      <td>0.000000</td>\n",
       "      <td>0.000000</td>\n",
       "      <td>0.000000</td>\n",
       "      <td>0.000000</td>\n",
       "    </tr>\n",
       "    <tr>\n",
       "      <th>25%</th>\n",
       "      <td>1.440815e+09</td>\n",
       "      <td>1.000000</td>\n",
       "      <td>22.000000</td>\n",
       "      <td>3.000000</td>\n",
       "      <td>767.000000</td>\n",
       "      <td>746.000000</td>\n",
       "      <td>2.000000</td>\n",
       "      <td>0.000000</td>\n",
       "      <td>0.000000</td>\n",
       "      <td>7.000000</td>\n",
       "      <td>...</td>\n",
       "      <td>3.000000</td>\n",
       "      <td>2.000000</td>\n",
       "      <td>0.000000</td>\n",
       "      <td>-31.000000</td>\n",
       "      <td>1818.000000</td>\n",
       "      <td>0.000000</td>\n",
       "      <td>36.000000</td>\n",
       "      <td>256.000000</td>\n",
       "      <td>3.000000</td>\n",
       "      <td>3.000000</td>\n",
       "    </tr>\n",
       "    <tr>\n",
       "      <th>50%</th>\n",
       "      <td>1.446338e+09</td>\n",
       "      <td>1.000000</td>\n",
       "      <td>50.000000</td>\n",
       "      <td>3.000000</td>\n",
       "      <td>1175.000000</td>\n",
       "      <td>1113.000000</td>\n",
       "      <td>11.000000</td>\n",
       "      <td>0.000000</td>\n",
       "      <td>0.000000</td>\n",
       "      <td>8.000000</td>\n",
       "      <td>...</td>\n",
       "      <td>3.000000</td>\n",
       "      <td>2.000000</td>\n",
       "      <td>1.000000</td>\n",
       "      <td>-16.000000</td>\n",
       "      <td>2268.000000</td>\n",
       "      <td>1.000000</td>\n",
       "      <td>1824.000000</td>\n",
       "      <td>1798.000000</td>\n",
       "      <td>63.000000</td>\n",
       "      <td>60.000000</td>\n",
       "    </tr>\n",
       "    <tr>\n",
       "      <th>75%</th>\n",
       "      <td>1.448829e+09</td>\n",
       "      <td>7.000000</td>\n",
       "      <td>75.000000</td>\n",
       "      <td>4.000000</td>\n",
       "      <td>1704.000000</td>\n",
       "      <td>1479.000000</td>\n",
       "      <td>19.000000</td>\n",
       "      <td>1.000000</td>\n",
       "      <td>1.000000</td>\n",
       "      <td>10.000000</td>\n",
       "      <td>...</td>\n",
       "      <td>4.000000</td>\n",
       "      <td>3.000000</td>\n",
       "      <td>1.000000</td>\n",
       "      <td>8.000000</td>\n",
       "      <td>2778.000000</td>\n",
       "      <td>1.000000</td>\n",
       "      <td>1974.000000</td>\n",
       "      <td>1974.000000</td>\n",
       "      <td>63.000000</td>\n",
       "      <td>63.000000</td>\n",
       "    </tr>\n",
       "    <tr>\n",
       "      <th>max</th>\n",
       "      <td>1.450313e+09</td>\n",
       "      <td>7.000000</td>\n",
       "      <td>112.000000</td>\n",
       "      <td>6.000000</td>\n",
       "      <td>3319.000000</td>\n",
       "      <td>4332.000000</td>\n",
       "      <td>47.000000</td>\n",
       "      <td>8.000000</td>\n",
       "      <td>5.000000</td>\n",
       "      <td>34.000000</td>\n",
       "      <td>...</td>\n",
       "      <td>9.000000</td>\n",
       "      <td>9.000000</td>\n",
       "      <td>13.000000</td>\n",
       "      <td>300.000000</td>\n",
       "      <td>8452.000000</td>\n",
       "      <td>1.000000</td>\n",
       "      <td>2047.000000</td>\n",
       "      <td>2047.000000</td>\n",
       "      <td>63.000000</td>\n",
       "      <td>63.000000</td>\n",
       "    </tr>\n",
       "  </tbody>\n",
       "</table>\n",
       "<p>8 rows × 108 columns</p>\n",
       "</div>"
      ],
      "text/plain": [
       "         start_time    lobby_type       r1_hero      r1_level         r1_xp  \\\n",
       "count  9.723000e+04  97230.000000  97230.000000  97230.000000  97230.000000   \n",
       "mean   1.444232e+09      2.630999     51.517104      3.442672   1233.405801   \n",
       "std    5.515393e+06      2.835761     32.564211      1.111741    566.588895   \n",
       "min    1.430199e+09      0.000000      1.000000      0.000000      0.000000   \n",
       "25%    1.440815e+09      1.000000     22.000000      3.000000    767.000000   \n",
       "50%    1.446338e+09      1.000000     50.000000      3.000000   1175.000000   \n",
       "75%    1.448829e+09      7.000000     75.000000      4.000000   1704.000000   \n",
       "max    1.450313e+09      7.000000    112.000000      6.000000   3319.000000   \n",
       "\n",
       "            r1_gold         r1_lh      r1_kills     r1_deaths      r1_items  \\\n",
       "count  97230.000000  97230.000000  97230.000000  97230.000000  97230.000000   \n",
       "mean    1147.899702     11.231996      0.357009      0.362285      8.271315   \n",
       "std      464.111662      9.041620      0.663889      0.626704      2.497575   \n",
       "min        0.000000      0.000000      0.000000      0.000000      0.000000   \n",
       "25%      746.000000      2.000000      0.000000      0.000000      7.000000   \n",
       "50%     1113.000000     11.000000      0.000000      0.000000      8.000000   \n",
       "75%     1479.000000     19.000000      1.000000      1.000000     10.000000   \n",
       "max     4332.000000     47.000000      8.000000      5.000000     34.000000   \n",
       "\n",
       "       ...  dire_boots_count  dire_ward_observer_count  \\\n",
       "count  ...      97230.000000              97230.000000   \n",
       "mean   ...          3.349553                  2.448339   \n",
       "std    ...          1.155609                  0.813459   \n",
       "min    ...          0.000000                  0.000000   \n",
       "25%    ...          3.000000                  2.000000   \n",
       "50%    ...          3.000000                  2.000000   \n",
       "75%    ...          4.000000                  3.000000   \n",
       "max    ...          9.000000                  9.000000   \n",
       "\n",
       "       dire_ward_sentry_count  dire_first_ward_time      duration  \\\n",
       "count            97230.000000          95404.000000  97230.000000   \n",
       "mean                 0.689119             -6.901922   2332.247886   \n",
       "std                  0.710122             40.701397    715.806850   \n",
       "min                  0.000000            -84.000000    900.000000   \n",
       "25%                  0.000000            -31.000000   1818.000000   \n",
       "50%                  1.000000            -16.000000   2268.000000   \n",
       "75%                  1.000000              8.000000   2778.000000   \n",
       "max                 13.000000            300.000000   8452.000000   \n",
       "\n",
       "        radiant_win  tower_status_radiant  tower_status_dire  \\\n",
       "count  97230.000000          97230.000000       97230.000000   \n",
       "mean       0.518503           1309.227790        1286.310820   \n",
       "std        0.499660            853.921365         851.009148   \n",
       "min        0.000000              0.000000           0.000000   \n",
       "25%        0.000000             36.000000         256.000000   \n",
       "50%        1.000000           1824.000000        1798.000000   \n",
       "75%        1.000000           1974.000000        1974.000000   \n",
       "max        1.000000           2047.000000        2047.000000   \n",
       "\n",
       "       barracks_status_radiant  barracks_status_dire  \n",
       "count             97230.000000          97230.000000  \n",
       "mean                 40.599095             41.337036  \n",
       "std                  27.871645             27.064873  \n",
       "min                   0.000000              0.000000  \n",
       "25%                   3.000000              3.000000  \n",
       "50%                  63.000000             60.000000  \n",
       "75%                  63.000000             63.000000  \n",
       "max                  63.000000             63.000000  \n",
       "\n",
       "[8 rows x 108 columns]"
      ]
     },
     "execution_count": 1,
     "metadata": {},
     "output_type": "execute_result"
    }
   ],
   "source": [
    "import numpy as np\n",
    "import pandas as pd\n",
    "\n",
    "features = pd.read_csv('../features.csv', index_col='match_id')\n",
    "features_test = pd.read_csv('../features_test.csv', index_col='match_id')\n",
    "\n",
    "print('features', list(features), '\\n')\n",
    "print('features_test', list(features_test))\n",
    "\n",
    "features.describe()"
   ]
  },
  {
   "cell_type": "markdown",
   "metadata": {},
   "source": [
    "Понятно, что duration, radiant_win, tower_status_radiant, tower_status_dire, barracks_status_radiant, barracks_status_dire – лишние для наших целей признаки. Убираем. \n",
    "\n",
    "Вообще, неочевидно, зачем нужны признаки start_time и lobby_type. По-моему, от этих признаков победа той или иной команды вообще никак не зависит."
   ]
  },
  {
   "cell_type": "code",
   "execution_count": 2,
   "metadata": {},
   "outputs": [],
   "source": [
    "X_train = features.drop(['start_time',\n",
    "                         'lobby_type',\n",
    "                         'duration',\n",
    "                         'radiant_win',\n",
    "                         'tower_status_radiant',\n",
    "                         'tower_status_dire',\n",
    "                         'barracks_status_radiant',\n",
    "                         'barracks_status_dire'], axis=1)\n",
    "Y_train = features['radiant_win']\n",
    "X_test = features_test.drop(['start_time', 'lobby_type'], axis=1)"
   ]
  },
  {
   "cell_type": "markdown",
   "metadata": {},
   "source": [
    "Проверим равенство кол-ва полей в train и test"
   ]
  },
  {
   "cell_type": "code",
   "execution_count": 3,
   "metadata": {},
   "outputs": [
    {
     "data": {
      "text/plain": [
       "True"
      ]
     },
     "execution_count": 3,
     "metadata": {},
     "output_type": "execute_result"
    }
   ],
   "source": [
    "len(list(X_train)) == len(list(X_test))"
   ]
  },
  {
   "cell_type": "markdown",
   "metadata": {},
   "source": [
    "Проверим данные на наличие пропусков\n",
    "\n",
    "Сначала, выведем признаки, где пропуски есть"
   ]
  },
  {
   "cell_type": "code",
   "execution_count": 4,
   "metadata": {},
   "outputs": [
    {
     "name": "stdout",
     "output_type": "stream",
     "text": [
      "first_blood_time\n",
      "first_blood_team\n",
      "first_blood_player1\n",
      "first_blood_player2\n",
      "radiant_bottle_time\n",
      "radiant_courier_time\n",
      "radiant_flying_courier_time\n",
      "radiant_first_ward_time\n",
      "dire_bottle_time\n",
      "dire_courier_time\n",
      "dire_flying_courier_time\n",
      "dire_first_ward_time\n"
     ]
    }
   ],
   "source": [
    "nan_list = []\n",
    "for e in list(X_train):\n",
    "    flag = X_train[e].isnull().values.any()\n",
    "    if flag:\n",
    "        nan_list.append(e)\n",
    "        print(e)"
   ]
  },
  {
   "cell_type": "markdown",
   "metadata": {},
   "source": [
    "Теперь, смотрим количество пропусков в признаках, где они есть, в сравнении с признаками, где пропусков нет (97230)\n",
    "\n",
    "Я эту вашу Доту не знаю, но полагаю, что в первые пять минут игры игрокам чаще всего происходят события, описываемые признаками courier и first_ward. Соответственно, наименьшее кол-во пропусков в данных есть именно в этих признаках, поскольку эти пропуски, очевидно, означают отсутствие события, описываемого признаком в первые пять минут игры. Сourier, наверное, какой-то отправленный курьер, first_ward – первое отражение атаки. Далее идёт убывание вероятности события в первые пять минут вплоть до признака first_blood_player2, каковой, наверное, есть игрок, причинивший ущерб first_blood_player1, поскольку этот самый first_blood_player может быть не героем, а ботом, миной или ещё чем."
   ]
  },
  {
   "cell_type": "code",
   "execution_count": 5,
   "metadata": {},
   "outputs": [
    {
     "data": {
      "text/plain": [
       "first_blood_time               77677\n",
       "first_blood_team               77677\n",
       "first_blood_player1            77677\n",
       "first_blood_player2            53243\n",
       "radiant_bottle_time            81539\n",
       "radiant_courier_time           96538\n",
       "radiant_flying_courier_time    69751\n",
       "radiant_first_ward_time        95394\n",
       "dire_bottle_time               81087\n",
       "dire_courier_time              96554\n",
       "dire_flying_courier_time       71132\n",
       "dire_first_ward_time           95404\n",
       "dtype: int64"
      ]
     },
     "execution_count": 5,
     "metadata": {},
     "output_type": "execute_result"
    }
   ],
   "source": [
    "X_train[nan_list].count()"
   ]
  },
  {
   "cell_type": "markdown",
   "metadata": {},
   "source": [
    "Меняем пропуски на 0.0"
   ]
  },
  {
   "cell_type": "code",
   "execution_count": 6,
   "metadata": {},
   "outputs": [],
   "source": [
    "X_train.fillna(0, inplace=True, axis=1)\n",
    "X_test.fillna(0, inplace=True, axis=1)"
   ]
  },
  {
   "cell_type": "markdown",
   "metadata": {},
   "source": [
    "проверка"
   ]
  },
  {
   "cell_type": "code",
   "execution_count": 7,
   "metadata": {},
   "outputs": [],
   "source": [
    "for e in list(X_train):\n",
    "    flag = X_train[e].isnull().values.any()\n",
    "    if flag:\n",
    "        print(e)"
   ]
  },
  {
   "cell_type": "markdown",
   "metadata": {},
   "source": [
    "Столбец с целевой переменной – radiant_win. Данные из него сейчас находятся в Y_train."
   ]
  },
  {
   "cell_type": "markdown",
   "metadata": {},
   "source": [
    "обучить градиентный бустинг над деревьями на имеющейся матрице \"объекты-признаки\". Зафиксируйте генератор разбиений для кросс-валидации по 5 блокам (KFold), не забудьте перемешать при этом выборку (shuffle=True), поскольку данные в таблице отсортированы по времени, и без перемешивания можно столкнуться с нежелательными эффектами при оценивании качества. Оцените качество градиентного бустинга (GradientBoostingClassifier) с помощью данной кросс-валидации, попробуйте при этом разное количество деревьев (как минимум протестируйте следующие значения для количества деревьев: 10, 20, 30). Долго ли настраивались классификаторы? Достигнут ли оптимум на испытанных значениях параметра n_estimators, или же качество, скорее всего, продолжит расти при дальнейшем его увеличении?"
   ]
  },
  {
   "cell_type": "code",
   "execution_count": 9,
   "metadata": {},
   "outputs": [
    {
     "name": "stderr",
     "output_type": "stream",
     "text": [
      "/home/mk/anaconda3/lib/python3.7/site-packages/sklearn/ensemble/weight_boosting.py:29: DeprecationWarning: numpy.core.umath_tests is an internal NumPy module and should not be imported. It will be removed in a future NumPy release.\n",
      "  from numpy.core.umath_tests import inner1d\n"
     ]
    },
    {
     "name": "stdout",
     "output_type": "stream",
     "text": [
      "Classification time elapsed: 0:00:07.187410\n",
      "Cross-validation time elapsed: 0:00:25.234638\n",
      "10: 0.6649023480596046\n",
      "Classification time elapsed: 0:00:12.986533\n",
      "Cross-validation time elapsed: 0:00:46.560288\n",
      "20: 0.6819563092996052\n",
      "Classification time elapsed: 0:00:18.088130\n",
      "Cross-validation time elapsed: 0:01:08.955978\n",
      "30: 0.6892847426135573\n",
      "Classification time elapsed: 0:00:24.017527\n",
      "Cross-validation time elapsed: 0:01:32.017844\n",
      "40: 0.6941703333969077\n",
      "Classification time elapsed: 0:00:29.796666\n",
      "Cross-validation time elapsed: 0:01:57.616060\n",
      "50: 0.6976238683505217\n",
      "Classification time elapsed: 0:00:37.257479\n",
      "Cross-validation time elapsed: 0:02:13.063760\n",
      "60: 0.7003628955998039\n",
      "Classification time elapsed: 0:00:42.578459\n",
      "Cross-validation time elapsed: 0:02:36.132581\n",
      "70: 0.7019657241934635\n",
      "Classification time elapsed: 0:00:49.225233\n",
      "Cross-validation time elapsed: 0:02:50.391700\n",
      "80: 0.7036504392313014\n",
      "Classification time elapsed: 0:00:53.472640\n",
      "Cross-validation time elapsed: 0:03:22.272168\n",
      "90: 0.7055815380510717\n",
      "Classification time elapsed: 0:01:04.830743\n",
      "Cross-validation time elapsed: 0:03:37.330903\n",
      "100: 0.7066767030471153\n"
     ]
    },
    {
     "data": {
      "text/plain": [
       "array([0.48631063, 0.6660456 , 0.4380853 , ..., 0.23806388, 0.33280151,\n",
       "       0.5213588 ])"
      ]
     },
     "execution_count": 9,
     "metadata": {},
     "output_type": "execute_result"
    }
   ],
   "source": [
    "import time\n",
    "import datetime\n",
    "from sklearn.ensemble import GradientBoostingClassifier as gbc\n",
    "from sklearn.model_selection import KFold, cross_val_score\n",
    "\n",
    "predictions, mean_scores = {}, {}\n",
    "\n",
    "for trees in range(10, 101, 10):    # n_estimators\n",
    "    start_time = datetime.datetime.now()\n",
    "    clf = gbc(n_estimators=trees)\n",
    "    clf.fit(X_train, Y_train)\n",
    "    print('Classification time elapsed:', datetime.datetime.now() - start_time)\n",
    "\n",
    "    predictions[trees] = clf.predict_proba(X_test)[:, 1]\n",
    "    \n",
    "    folder = KFold(n_splits=5, shuffle=True)    # генератор разбиений\n",
    "    start_time = datetime.datetime.now()\n",
    "    mean_scores[trees] = np.mean(cross_val_score(clf, X_train, Y_train, scoring='roc_auc', cv=folder))\n",
    "    print('Cross-validation time elapsed:', datetime.datetime.now() - start_time)\n",
    "    print(f'{trees}: {mean_scores[trees]}')\n",
    "predictions[trees]"
   ]
  },
  {
   "cell_type": "markdown",
   "metadata": {},
   "source": [
    "## Отчёт по первому этапу:\n",
    "\n",
    "   #### 1. Какие признаки имеют пропуски среди своих значений? Что могут означать пропуски в этих признаках (ответьте на этот вопрос для двух любых признаков)?\n",
    "    first_blood_time\n",
    "    first_blood_team\n",
    "    first_blood_player1\n",
    "    first_blood_player2\n",
    "    radiant_bottle_time\n",
    "    radiant_courier_time\n",
    "    radiant_flying_courier_time\n",
    "    radiant_first_ward_time\n",
    "    dire_bottle_time\n",
    "    dire_courier_time\n",
    "    dire_flying_courier_time\n",
    "    dire_first_ward_time\n",
    "   \n",
    "    Я эту вашу Доту не знаю, но полагаю, что в первые пять минут игры c игроками чаще всего происходят события, описываемые признаками courier и first_ward. Соответственно, наименьшее кол-во пропусков в данных есть именно в этих признаках, поскольку эти пропуски, очевидно, означают отсутствие события, описываемого признаком в первые пять минут игры. Сourier, наверное, какой-то отправленный курьер, first_ward – первое отражение атаки. Далее идёт убывание вероятности события в первые пять минут вплоть до признака first_blood_player2, каковой, наверное, есть игрок, причинивший ущерб first_blood_player1, поскольку этот самый first_blood_player может быть не героем, а ботом, миной или ещё чем.\n",
    "    \n",
    "   #### 2. Как называется столбец, содержащий целевую переменную?\n",
    "    radiant_win\n",
    "   \n",
    "   #### 3. Как долго проводилась кросс-валидация для градиентного бустинга с 30 деревьями? Какое качество при этом получилось?\n",
    "    Кросс-валидация для для градиентного бустинга с 30 деревьями длилась 1 минуту 32 секунды (или 1 минута 56 секунд вместе с классификацией и обучением классификатора). Качество при этом равно 0.6892847426135573.\n",
    "   \n",
    "   #### 4. Имеет ли смысл использовать больше 30 деревьев в градиентном бустинге? Что бы вы предложили делать, чтобы ускорить его обучение при увеличении количества деревьев?\n",
    "    Разница в качестве между кросс-валидацией для классификаторов на 10 и 20 деревьях 0.02, на 20 и 30 – 0.007 (в три раза меньше), на 30 и 40 – 0.005 и далее разница в качестве падает до 0.001, что выходит при 90 и 100 деревьях. При этом разница во времени, затрачиваемом на кросс-валидацию растёт обратно пропорционально уменьшению разницы в качестве. Если при 30 деревьях кросс-валидация занимает 1 минуту 32 секунды, то при 100 – 3 минуты 38 секунд. При этом качество повышается лишь на 0.017. Что, скорее всего, несущественно.\n",
    "    \n",
    "    Чтобы ускорить обучение классификатора на градиентном бустинге при увеличении кол-ва деревьев можно сокращать количество признаков. В первую очередь, проверить, признаки на корреляцию и отфильтровать те, что коррелируют сильно, также можно снизить размерность, заменив старые признаки на новые, значительно меньшие по количеству, но не снижающие дисперсию."
   ]
  },
  {
   "cell_type": "markdown",
   "metadata": {},
   "source": [
    "## Подход 2: логистическая регрессия"
   ]
  },
  {
   "cell_type": "code",
   "execution_count": 1,
   "metadata": {},
   "outputs": [],
   "source": [
    "import numpy as np\n",
    "import pandas as pd\n",
    "\n",
    "features = pd.read_csv('../features.csv', index_col='match_id')\n",
    "features_test = pd.read_csv('../features_test.csv', index_col='match_id')\n",
    "\n",
    "X_train = features.drop(['start_time',\n",
    "                         'lobby_type',\n",
    "                         'duration',\n",
    "                         'radiant_win',\n",
    "                         'tower_status_radiant',\n",
    "                         'tower_status_dire',\n",
    "                         'barracks_status_radiant',\n",
    "                         'barracks_status_dire'], axis=1)\n",
    "Y_train = features['radiant_win']\n",
    "X_test = features_test.drop(['start_time', 'lobby_type'], axis=1)\n",
    "\n",
    "X_train.fillna(0, inplace=True, axis=1)\n",
    "X_test.fillna(0, inplace=True, axis=1)"
   ]
  },
  {
   "cell_type": "markdown",
   "metadata": {},
   "source": [
    "Нормализуйем обучающую и тестовую выборку с помощью класса StandardScaler"
   ]
  },
  {
   "cell_type": "code",
   "execution_count": 2,
   "metadata": {},
   "outputs": [
    {
     "name": "stdout",
     "output_type": "stream",
     "text": [
      "(97230, 100) (97230,)\n"
     ]
    }
   ],
   "source": [
    "from sklearn.preprocessing import StandardScaler\n",
    "\n",
    "scaler = StandardScaler()\n",
    "X_train_scaled = scaler.fit_transform(X_train)  # сначала fit_transform, потом transform\n",
    "X_test_scaled = scaler.transform(X_test)\n",
    "print(X_train_scaled.shape, Y_train.shape)"
   ]
  },
  {
   "cell_type": "markdown",
   "metadata": {},
   "source": [
    "Подберём наилучшие значение параметра регуляризации"
   ]
  },
  {
   "cell_type": "code",
   "execution_count": 16,
   "metadata": {},
   "outputs": [
    {
     "data": {
      "text/plain": [
       "[1e-08, 1e-07, 1e-06, 1e-05, 0.0001, 0.001, 0.01, 0.1, 1.0, 10.0, 100.0]"
      ]
     },
     "execution_count": 16,
     "metadata": {},
     "output_type": "execute_result"
    }
   ],
   "source": [
    "arr = list(map(lambda x: 10**2 / 10**x, range(11)))[::-1]\n",
    "arr"
   ]
  },
  {
   "cell_type": "code",
   "execution_count": 17,
   "metadata": {},
   "outputs": [
    {
     "name": "stdout",
     "output_type": "stream",
     "text": [
      "1e-08 \t 0.6871681046904048\n",
      "1e-07 \t 0.6871827193666747\n",
      "1e-06 \t 0.688094021117126\n",
      "1e-05 \t 0.6950863020674684\n",
      "0.0001 \t 0.7112542442678166\n",
      "0.001 \t 0.7159357523775383\n",
      "0.01 \t 0.716369200090057\n",
      "0.1 \t 0.7162368607354933\n",
      "1.0 \t 0.7161246149394107\n",
      "10.0 \t 0.7162948948118885\n",
      "100.0 \t 0.7162599423193535\n"
     ]
    }
   ],
   "source": [
    "from sklearn.linear_model import LogisticRegression as lr\n",
    "from sklearn.model_selection import KFold, cross_val_score\n",
    "\n",
    "for c in arr:    # C (regularization)\n",
    "    clf_lr = lr(C=c).fit(X_train_scaled, Y_train)\n",
    "    folder_lr = KFold(n_splits=5, shuffle=True)    # генератор разбиений\n",
    "    print(c, '\\t', np.mean(cross_val_score(clf_lr, X_train_scaled, Y_train, scoring='roc_auc', cv=folder_lr)))"
   ]
  },
  {
   "cell_type": "markdown",
   "metadata": {},
   "source": [
    "Уберём категориальные признаки и снова подберём наилучшие значение параметра регуляризации"
   ]
  },
  {
   "cell_type": "code",
   "execution_count": 18,
   "metadata": {
    "scrolled": true
   },
   "outputs": [
    {
     "name": "stdout",
     "output_type": "stream",
     "text": [
      "1e-08 \t 0.6871760248116618\n",
      "1e-07 \t 0.6871999234035899\n",
      "1e-06 \t 0.6881203430057555\n",
      "1e-05 \t 0.6950646014259245\n",
      "0.0001 \t 0.711222990683126\n",
      "0.001 \t 0.7162803639650029\n",
      "0.01 \t 0.7165203285397959\n",
      "0.1 \t 0.7164235157010062\n",
      "1.0 \t 0.7163020788875458\n",
      "10.0 \t 0.7162645914753971\n",
      "100.0 \t 0.7163362821312302\n"
     ]
    }
   ],
   "source": [
    "X_train_nc = X_train.drop(['r1_hero', 'r2_hero', 'r3_hero', 'r4_hero', 'r5_hero',\n",
    "                           'd1_hero', 'd2_hero', 'd3_hero', 'd4_hero', 'd5_hero'], axis=1)\n",
    "X_train_nc_scaled = scaler.fit_transform(X_train_nc)  # сначала fit_transform, потом transform\n",
    "\n",
    "for c in arr:    # C (regularization)\n",
    "    clf_nc_lr = lr(C=c).fit(X_train_nc_scaled, Y_train)\n",
    "    folder_nc_lr = KFold(n_splits=5, shuffle=True)    # генератор разбиений\n",
    "    print(c, '\\t', np.mean(cross_val_score(clf_nc_lr, X_train_nc_scaled, Y_train, scoring='roc_auc', cv=folder_nc_lr)))"
   ]
  },
  {
   "cell_type": "markdown",
   "metadata": {},
   "source": [
    "Всего 112 героев, уложены в массив heroes"
   ]
  },
  {
   "cell_type": "code",
   "execution_count": 19,
   "metadata": {},
   "outputs": [
    {
     "data": {
      "text/plain": [
       "112"
      ]
     },
     "execution_count": 19,
     "metadata": {},
     "output_type": "execute_result"
    }
   ],
   "source": [
    "heroes = features['r1_hero'].unique()\n",
    "n = max(heroes)\n",
    "n"
   ]
  },
  {
   "cell_type": "markdown",
   "metadata": {},
   "source": [
    "Сформируем мешок слов (bag of words)"
   ]
  },
  {
   "cell_type": "code",
   "execution_count": 20,
   "metadata": {},
   "outputs": [],
   "source": [
    "heroes = np.unique(features['r1_hero'])\n",
    "n = max(heroes)\n",
    "X_pick = np.zeros((features.shape[0], n))\n",
    "for i, match_id in enumerate(features.index):\n",
    "    for p in range(5):\n",
    "        X_pick[i, features.loc[match_id, 'r%d_hero' % (p+1)]-1] = 1\n",
    "        X_pick[i, features.loc[match_id, 'd%d_hero' % (p+1)]-1] = -1"
   ]
  },
  {
   "cell_type": "code",
   "execution_count": 21,
   "metadata": {},
   "outputs": [
    {
     "name": "stdout",
     "output_type": "stream",
     "text": [
      "10.0 0.0\n"
     ]
    }
   ],
   "source": [
    "print(sum(abs(X_pick[1000, :])), sum(X_pick[1000, :]))"
   ]
  },
  {
   "cell_type": "code",
   "execution_count": 22,
   "metadata": {},
   "outputs": [
    {
     "name": "stdout",
     "output_type": "stream",
     "text": [
      "(97230, 90) (97230, 202)\n"
     ]
    }
   ],
   "source": [
    "X_train_bow = np.hstack((X_train_nc, X_pick))\n",
    "print(X_train_nc.shape, X_train_bow.shape)"
   ]
  },
  {
   "cell_type": "markdown",
   "metadata": {},
   "source": [
    "мешок слов для тестовой выборки"
   ]
  },
  {
   "cell_type": "code",
   "execution_count": 23,
   "metadata": {},
   "outputs": [],
   "source": [
    "X_test_nc = X_test.drop(['r1_hero', 'r2_hero', 'r3_hero', 'r4_hero', 'r5_hero',\n",
    "                           'd1_hero', 'd2_hero', 'd3_hero', 'd4_hero', 'd5_hero'], axis=1)\n",
    "X_pick_test = np.zeros((features_test.shape[0], n))\n",
    "for i, match_id in enumerate(features_test.index):\n",
    "    for p in range(5):\n",
    "        X_pick_test[i, features_test.loc[match_id, 'r%d_hero' % (p+1)]-1] = 1\n",
    "        X_pick_test[i, features_test.loc[match_id, 'd%d_hero' % (p+1)]-1] = -1\n",
    "        \n",
    "X_test_bow = np.hstack((X_test_nc, X_pick_test))"
   ]
  },
  {
   "cell_type": "code",
   "execution_count": 24,
   "metadata": {},
   "outputs": [
    {
     "name": "stdout",
     "output_type": "stream",
     "text": [
      "(17177, 112) 10.0 0.0\n"
     ]
    }
   ],
   "source": [
    "print(X_pick_test.shape, sum(abs(X_pick_test[1000, :])), sum(X_pick_test[1000, :]))"
   ]
  },
  {
   "cell_type": "markdown",
   "metadata": {},
   "source": [
    "Кросс-валидация для обучающей выборки с мешком слов"
   ]
  },
  {
   "cell_type": "code",
   "execution_count": 25,
   "metadata": {},
   "outputs": [
    {
     "name": "stdout",
     "output_type": "stream",
     "text": [
      "1e-08 \t 0.7005702802580507\n",
      "1e-07 \t 0.7007917660136536\n",
      "1e-06 \t 0.7021673976732454\n",
      "1e-05 \t 0.7146779169738959\n",
      "0.0001 \t 0.742463825649414\n",
      "0.001 \t 0.7513976947894491\n",
      "0.01 \t 0.7518204021963442\n",
      "0.1 \t 0.7519297370162686\n",
      "1.0 \t 0.7514110452592099\n",
      "10.0 \t 0.7515952988807804\n",
      "100.0 \t 0.7517566492402846\n"
     ]
    }
   ],
   "source": [
    "X_train_bow_scaled = scaler.fit_transform(X_train_bow)  # сначала fit_transform, потом transform\n",
    "\n",
    "for c in arr:    # C (regularization)\n",
    "    clf_bow_lr = lr(C=c).fit(X_train_bow_scaled, Y_train)\n",
    "    folder_bow_lr = KFold(n_splits=5, shuffle=True)    # генератор разбиений\n",
    "    print(c, '\\t', np.mean(cross_val_score(clf_bow_lr, X_train_bow_scaled, Y_train, scoring='roc_auc', cv=folder_bow_lr)))"
   ]
  },
  {
   "cell_type": "markdown",
   "metadata": {},
   "source": [
    "Получим предсказания вероятностей победы команды Radiant в играх тестовой выборки с логистической регрессией в кач-ве классификатора. Наилучший результат при кросс-валидации на обучающей выборке оказался на параметре регуляризации 0.1, его и применим."
   ]
  },
  {
   "cell_type": "code",
   "execution_count": 26,
   "metadata": {},
   "outputs": [],
   "source": [
    "X_test_bow_scaled = scaler.transform(X_test_bow)\n",
    "\n",
    "prediction = clf_bow_lr.predict_proba(X_test_bow_scaled)[:, 1]"
   ]
  },
  {
   "cell_type": "code",
   "execution_count": 30,
   "metadata": {},
   "outputs": [
    {
     "name": "stdout",
     "output_type": "stream",
     "text": [
      "[0.83651972 0.77532749 0.20130384 ... 0.22950449 0.61973228 0.41646966] \n",
      " 0.008376838227443784 0.9966080664850568\n"
     ]
    }
   ],
   "source": [
    "print(prediction, '\\n', min(prediction), max(prediction))"
   ]
  },
  {
   "cell_type": "markdown",
   "metadata": {},
   "source": [
    "## Отчёт по второму этапу:\n",
    "\n",
    "   #### 1. Какое качество получилось у логистической регрессии над всеми исходными признаками? Как оно соотносится с качеством градиентного бустинга? Чем вы можете объяснить эту разницу? Быстрее ли работает логистическая регрессия по сравнению с градиентным бустингом?\n",
    "    Признаки были отмасштабированы. Кроме признаков из будущего, были убраны start_time и lobby_type. Я их счёл не информативными для задачи предсказания результатов игр. Если относительно start_time у меня нет никаких сомнений, то по поводу lobby_type хотелось бы услышать мнение тех, кто играл а эту вашу Доту: а вдруг да тип лобби где собираются игроки влияет на результат игры.\n",
    "    Качество получилось близким, 0.716369200090057 на параметре регуляризации 0.01. Сходно, чуть выше, чем при градиентном бустинге.\n",
    "    Логистическая регрессия работает заметно (кратно) быстрее градиентного бустинга.\n",
    "    \n",
    "   #### Как влияет на качество логистической регрессии удаление категориальных признаков (укажите новое значение метрики качества)? Чем вы можете объяснить это изменение?\n",
    "    Удаление категориальных признаков улучшает качество логистической регрессии. Хотя и не особо заметно, в моём случае, меньше 1%\n",
    "     \n",
    "   #### Сколько различных идентификаторов героев существует в данной игре?\n",
    "    112\n",
    "   #### Какое получилось качество при добавлении \"мешка слов\" по героям? Улучшилось ли оно по сравнению с предыдущим вариантом? Чем вы можете это объяснить?\n",
    "    При добавлении \"мешка слов\" по героям качество получилось на 5% лучше (0.7519)\n",
    "   #### Какое минимальное и максимальное значение прогноза на тестовой выборке получилось у лучшего из алгоритмов?\n",
    "    0.008376838227443784 и 0.9966080664850568 соответственно."
   ]
  }
 ],
 "metadata": {
  "kernelspec": {
   "display_name": "Python 3",
   "language": "python",
   "name": "python3"
  },
  "language_info": {
   "codemirror_mode": {
    "name": "ipython",
    "version": 3
   },
   "file_extension": ".py",
   "mimetype": "text/x-python",
   "name": "python",
   "nbconvert_exporter": "python",
   "pygments_lexer": "ipython3",
   "version": "3.7.2"
  }
 },
 "nbformat": 4,
 "nbformat_minor": 2
}
